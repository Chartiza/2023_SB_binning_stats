{
 "cells": [
  {
   "cell_type": "code",
   "execution_count": 1,
   "metadata": {},
   "outputs": [],
   "source": [
    "# import packages\n",
    "import matplotlib.pyplot as plt\n",
    "import pandas as pd\n",
    "import seaborn as sns \n",
    "import numpy as np\n",
    "import os\n",
    "import glob"
   ]
  },
  {
   "attachments": {},
   "cell_type": "markdown",
   "metadata": {},
   "source": [
    "## Read the input"
   ]
  },
  {
   "cell_type": "code",
   "execution_count": 5,
   "metadata": {},
   "outputs": [
    {
     "name": "stdout",
     "output_type": "stream",
     "text": [
      "First Set from 1 to 142 samples has  142  bins\n"
     ]
    }
   ],
   "source": [
    "l1 = pd.read_csv('input/MBins_list_1-142.csv', header=None, sep='/')\n",
    "l1['sample'] = l1[1].str.split('_').str[0]\n",
    "\n",
    "print('First Set from 1 to 142 samples has ', len(l1['sample'].unique()), ' samples bins')"
   ]
  },
  {
   "cell_type": "code",
   "execution_count": 8,
   "metadata": {},
   "outputs": [
    {
     "name": "stdout",
     "output_type": "stream",
     "text": [
      "First Set from 142 to 299 samples has  155  samples bins\n"
     ]
    },
    {
     "data": {
      "text/plain": [
       "157"
      ]
     },
     "execution_count": 8,
     "metadata": {},
     "output_type": "execute_result"
    }
   ],
   "source": [
    "l2 = pd.read_csv('input/MBins_list_143-299.csv', header=None, sep='/')\n",
    "l2['sample'] = l2[1].str.split('_').str[0]\n",
    "\n",
    "print('First Set from 142 to 299 samples has ', len(l2['sample'].unique()), ' samples bins')\n",
    "299-142"
   ]
  },
  {
   "cell_type": "code",
   "execution_count": 11,
   "metadata": {},
   "outputs": [
    {
     "data": {
      "text/html": [
       "<div>\n",
       "<style scoped>\n",
       "    .dataframe tbody tr th:only-of-type {\n",
       "        vertical-align: middle;\n",
       "    }\n",
       "\n",
       "    .dataframe tbody tr th {\n",
       "        vertical-align: top;\n",
       "    }\n",
       "\n",
       "    .dataframe thead th {\n",
       "        text-align: right;\n",
       "    }\n",
       "</style>\n",
       "<table border=\"1\" class=\"dataframe\">\n",
       "  <thead>\n",
       "    <tr style=\"text-align: right;\">\n",
       "      <th></th>\n",
       "      <th>0</th>\n",
       "      <th>sample</th>\n",
       "    </tr>\n",
       "  </thead>\n",
       "  <tbody>\n",
       "    <tr>\n",
       "      <th>0</th>\n",
       "      <td>lab66_V2K00U_E100013123_L01</td>\n",
       "      <td>V2K00U</td>\n",
       "    </tr>\n",
       "    <tr>\n",
       "      <th>1</th>\n",
       "      <td>lab66_V388BR_E100010953_L01</td>\n",
       "      <td>V388BR</td>\n",
       "    </tr>\n",
       "    <tr>\n",
       "      <th>2</th>\n",
       "      <td>lab66_V3PRGW_E100013128_L01</td>\n",
       "      <td>V3PRGW</td>\n",
       "    </tr>\n",
       "    <tr>\n",
       "      <th>3</th>\n",
       "      <td>lab66_V4S8AO_E100013123_L01</td>\n",
       "      <td>V4S8AO</td>\n",
       "    </tr>\n",
       "    <tr>\n",
       "      <th>4</th>\n",
       "      <td>lab66_V4SFLT_2_E100013124_L01</td>\n",
       "      <td>V4SFLT</td>\n",
       "    </tr>\n",
       "    <tr>\n",
       "      <th>...</th>\n",
       "      <td>...</td>\n",
       "      <td>...</td>\n",
       "    </tr>\n",
       "    <tr>\n",
       "      <th>152</th>\n",
       "      <td>lab66_V31FC7_E100013421_L01</td>\n",
       "      <td>V31FC7</td>\n",
       "    </tr>\n",
       "    <tr>\n",
       "      <th>153</th>\n",
       "      <td>lab66_V32DY7_E100009772A_L01</td>\n",
       "      <td>V32DY7</td>\n",
       "    </tr>\n",
       "    <tr>\n",
       "      <th>154</th>\n",
       "      <td>lab66_V33DNK_E100013458_L01</td>\n",
       "      <td>V33DNK</td>\n",
       "    </tr>\n",
       "    <tr>\n",
       "      <th>155</th>\n",
       "      <td>lab66_V349J9_E100015864_L01</td>\n",
       "      <td>V349J9</td>\n",
       "    </tr>\n",
       "    <tr>\n",
       "      <th>156</th>\n",
       "      <td>lab66_V35L2C_E100009727_L01</td>\n",
       "      <td>V35L2C</td>\n",
       "    </tr>\n",
       "  </tbody>\n",
       "</table>\n",
       "<p>157 rows × 2 columns</p>\n",
       "</div>"
      ],
      "text/plain": [
       "                                 0  sample\n",
       "0      lab66_V2K00U_E100013123_L01  V2K00U\n",
       "1      lab66_V388BR_E100010953_L01  V388BR\n",
       "2      lab66_V3PRGW_E100013128_L01  V3PRGW\n",
       "3      lab66_V4S8AO_E100013123_L01  V4S8AO\n",
       "4    lab66_V4SFLT_2_E100013124_L01  V4SFLT\n",
       "..                             ...     ...\n",
       "152    lab66_V31FC7_E100013421_L01  V31FC7\n",
       "153   lab66_V32DY7_E100009772A_L01  V32DY7\n",
       "154    lab66_V33DNK_E100013458_L01  V33DNK\n",
       "155    lab66_V349J9_E100015864_L01  V349J9\n",
       "156    lab66_V35L2C_E100009727_L01  V35L2C\n",
       "\n",
       "[157 rows x 2 columns]"
      ]
     },
     "execution_count": 11,
     "metadata": {},
     "output_type": "execute_result"
    }
   ],
   "source": [
    "l2_in = pd.read_csv('input/MBins_list_143-299_input.csv', header=None, sep='/')\n",
    "l2_in['sample'] = l2_in[0].str.split('_').str[1]\n",
    "l2_in"
   ]
  },
  {
   "cell_type": "code",
   "execution_count": 16,
   "metadata": {},
   "outputs": [
    {
     "data": {
      "text/plain": [
       "{'V4SFLT', 'VN49UR'}"
      ]
     },
     "execution_count": 16,
     "metadata": {},
     "output_type": "execute_result"
    }
   ],
   "source": [
    "# Check abcent samples\n",
    "set(l2['sample'].unique()) ^ set(l2_in['sample'].unique())"
   ]
  },
  {
   "attachments": {},
   "cell_type": "markdown",
   "metadata": {},
   "source": [
    "lab66_V4SFLT_2_E100013124_L01\n",
    "lab68_VN49UR_E100013421_L01\n",
    "\n",
    "don't have any bins for this saples (even single binners results)"
   ]
  },
  {
   "cell_type": "code",
   "execution_count": 19,
   "metadata": {},
   "outputs": [
    {
     "name": "stdout",
     "output_type": "stream",
     "text": [
      "First Set from 300 to 449 samples has  149 samples bins\n"
     ]
    }
   ],
   "source": [
    "l3 = pd.read_csv('input/MBins_list_300-449.csv', header=None, sep='/')\n",
    "l3['sample'] = l3[1].str.split('_').str[0]\n",
    "\n",
    "print('First Set from 300 to 449 samples has ', len(l3['sample'].unique()), 'samples bins')"
   ]
  }
 ],
 "metadata": {
  "kernelspec": {
   "display_name": "Python 3",
   "language": "python",
   "name": "python3"
  },
  "language_info": {
   "codemirror_mode": {
    "name": "ipython",
    "version": 3
   },
   "file_extension": ".py",
   "mimetype": "text/x-python",
   "name": "python",
   "nbconvert_exporter": "python",
   "pygments_lexer": "ipython3",
   "version": "3.8.3"
  }
 },
 "nbformat": 4,
 "nbformat_minor": 2
}
